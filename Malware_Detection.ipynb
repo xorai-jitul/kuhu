{
 "cells": [
  {
   "cell_type": "code",
   "execution_count": 1,
   "metadata": {
    "id": "G3kC0uCFU_fN"
   },
   "outputs": [],
   "source": [
    "%reload_ext autoreload\n",
    "%autoreload 2\n",
    "%matplotlib inline"
   ]
  },
  {
   "cell_type": "code",
   "execution_count": 2,
   "metadata": {
    "id": "X9Fhr6MfVRaS"
   },
   "outputs": [],
   "source": [
    "from tensorflow.keras.layers import Input, Lambda, Dense, Flatten\n",
    "from tensorflow.keras.models import Model\n",
    "from tensorflow.keras.applications.resnet50 import ResNet50\n",
    "#from keras.applications.vgg16 import VGG16\n",
    "from tensorflow.keras.applications.resnet50 import preprocess_input\n",
    "from tensorflow.keras.preprocessing import image\n",
    "from tensorflow.keras.preprocessing.image import ImageDataGenerator,load_img\n",
    "from tensorflow.keras.models import Sequential\n",
    "import numpy as np\n",
    "from glob import glob\n",
    "import matplotlib.pyplot as plt"
   ]
  },
  {
   "cell_type": "code",
   "execution_count": 3,
   "metadata": {
    "id": "V9TT-J7hVdSz"
   },
   "outputs": [],
   "source": [
    "bs = 64\n",
    "IMAGE_SIZE = [224, 224]"
   ]
  },
  {
   "cell_type": "code",
   "execution_count": 4,
   "metadata": {
    "colab": {
     "base_uri": "https://localhost:8080/"
    },
    "id": "8vf2Z0tTEEDc",
    "outputId": "adb55914-eeb3-4639-f1fc-8b7411452f73"
   },
   "outputs": [],
   "source": [
    "\n",
    "resnet = ResNet50(input_shape=IMAGE_SIZE + [3], weights='imagenet', include_top=False)"
   ]
  },
  {
   "cell_type": "code",
   "execution_count": 5,
   "metadata": {
    "id": "UwLuIjv5EOtO"
   },
   "outputs": [],
   "source": [
    "for layer in resnet.layers:\n",
    "    layer.trainable = False"
   ]
  },
  {
   "cell_type": "code",
   "execution_count": 6,
   "metadata": {
    "colab": {
     "base_uri": "https://localhost:8080/"
    },
    "id": "wy2TrU8FEVOe",
    "outputId": "26802b45-a0f3-41cf-cf53-be1af8144a7f"
   },
   "outputs": [
    {
     "name": "stdout",
     "output_type": "stream",
     "text": [
      "['dataset/dataset/train\\\\benign', 'dataset/dataset/train\\\\malware']\n"
     ]
    }
   ],
   "source": [
    "folders = glob('dataset/dataset/train/*')\n",
    "print(folders)"
   ]
  },
  {
   "cell_type": "code",
   "execution_count": 7,
   "metadata": {
    "id": "iKlMcin5Ei54"
   },
   "outputs": [],
   "source": [
    "x = Flatten()(resnet.output)"
   ]
  },
  {
   "cell_type": "code",
   "execution_count": 8,
   "metadata": {
    "id": "zk7ieOlGEnMx"
   },
   "outputs": [],
   "source": [
    "prediction = Dense(len(folders), activation='softmax')(x)\n",
    "\n",
    "# create a model object\n",
    "model = Model(inputs=resnet.input, outputs=prediction)"
   ]
  },
  {
   "cell_type": "code",
   "execution_count": null,
   "metadata": {
    "colab": {
     "base_uri": "https://localhost:8080/",
     "height": 1000
    },
    "id": "ftxucK48EqGS",
    "outputId": "301e79d7-2d01-4aee-837c-62a6d3a27573"
   },
   "outputs": [],
   "source": [
    "model.summary()"
   ]
  },
  {
   "cell_type": "code",
   "execution_count": null,
   "metadata": {
    "id": "xMMKFOuheZiX"
   },
   "outputs": [],
   "source": []
  },
  {
   "cell_type": "code",
   "execution_count": 9,
   "metadata": {
    "id": "zbP-N2I8EuSc"
   },
   "outputs": [],
   "source": [
    "model.compile(\n",
    "  loss='categorical_crossentropy',\n",
    "  optimizer='adam',\n",
    "  metrics=['accuracy']\n",
    ")\n"
   ]
  },
  {
   "cell_type": "code",
   "execution_count": 10,
   "metadata": {
    "id": "YSerwkb2FCHW"
   },
   "outputs": [],
   "source": [
    "# Use the Image Data Generator to import the images from the dataset\n",
    "from tensorflow.keras.preprocessing.image import ImageDataGenerator\n",
    "\n",
    "train_datagen = ImageDataGenerator(rescale = 1./255)\n",
    "\n",
    "test_datagen = ImageDataGenerator(rescale = 1./255)"
   ]
  },
  {
   "cell_type": "code",
   "execution_count": 11,
   "metadata": {
    "colab": {
     "base_uri": "https://localhost:8080/"
    },
    "id": "YH3F767fFTxO",
    "outputId": "db8af30e-c5a1-4373-b7e7-60f849fdf5ff"
   },
   "outputs": [
    {
     "name": "stdout",
     "output_type": "stream",
     "text": [
      "Found 6020 images belonging to 2 classes.\n"
     ]
    }
   ],
   "source": [
    "training_set = train_datagen.flow_from_directory('dataset/dataset/train',\n",
    "                                                 target_size = (224, 224),\n",
    "                                                 batch_size = 32,\n",
    "                                                 class_mode = 'categorical')"
   ]
  },
  {
   "cell_type": "code",
   "execution_count": 12,
   "metadata": {
    "colab": {
     "base_uri": "https://localhost:8080/"
    },
    "id": "5padaVXQFfzg",
    "outputId": "05d916d2-0807-4dd5-f562-2ce4b3a72579"
   },
   "outputs": [
    {
     "name": "stdout",
     "output_type": "stream",
     "text": [
      "Found 187 images belonging to 2 classes.\n"
     ]
    }
   ],
   "source": [
    "test_set = test_datagen.flow_from_directory('dataset/dataset/valid',\n",
    "                                            target_size = (224, 224),\n",
    "                                            batch_size = 32,\n",
    "                                            class_mode = 'categorical')"
   ]
  },
  {
   "cell_type": "code",
   "execution_count": 13,
   "metadata": {
    "colab": {
     "base_uri": "https://localhost:8080/"
    },
    "id": "5nsut18zF68F",
    "outputId": "d9fe80c9-e831-4145-f81c-bb64ce039a25"
   },
   "outputs": [
    {
     "name": "stdout",
     "output_type": "stream",
     "text": [
      "Epoch 1/30\n",
      "189/189 [==============================] - 400s 2s/step - loss: 1.9106 - accuracy: 0.6523 - val_loss: 0.3470 - val_accuracy: 0.8556\n",
      "Epoch 2/30\n",
      "189/189 [==============================] - 393s 2s/step - loss: 0.3746 - accuracy: 0.8291 - val_loss: 0.2203 - val_accuracy: 0.9198\n",
      "Epoch 3/30\n",
      "189/189 [==============================] - 392s 2s/step - loss: 0.3318 - accuracy: 0.8630 - val_loss: 0.2375 - val_accuracy: 0.9091\n",
      "Epoch 4/30\n",
      "189/189 [==============================] - 392s 2s/step - loss: 0.2743 - accuracy: 0.8920 - val_loss: 0.2442 - val_accuracy: 0.9198\n",
      "Epoch 5/30\n",
      "189/189 [==============================] - 392s 2s/step - loss: 0.2683 - accuracy: 0.8930 - val_loss: 0.1704 - val_accuracy: 0.9305\n",
      "Epoch 6/30\n",
      "189/189 [==============================] - 392s 2s/step - loss: 0.2697 - accuracy: 0.8945 - val_loss: 0.5569 - val_accuracy: 0.7540\n",
      "Epoch 7/30\n",
      "189/189 [==============================] - 393s 2s/step - loss: 0.2349 - accuracy: 0.9008 - val_loss: 0.1811 - val_accuracy: 0.9465\n",
      "Epoch 8/30\n",
      "189/189 [==============================] - 392s 2s/step - loss: 0.2312 - accuracy: 0.9065 - val_loss: 0.2109 - val_accuracy: 0.9144\n",
      "Epoch 9/30\n",
      "189/189 [==============================] - 392s 2s/step - loss: 0.2203 - accuracy: 0.9131 - val_loss: 0.2373 - val_accuracy: 0.9144\n",
      "Epoch 10/30\n",
      "189/189 [==============================] - 392s 2s/step - loss: 0.1879 - accuracy: 0.9270 - val_loss: 0.1604 - val_accuracy: 0.9519\n",
      "Epoch 11/30\n",
      "189/189 [==============================] - 392s 2s/step - loss: 0.1932 - accuracy: 0.9202 - val_loss: 0.3166 - val_accuracy: 0.8984\n",
      "Epoch 12/30\n",
      "189/189 [==============================] - 392s 2s/step - loss: 0.2306 - accuracy: 0.9112 - val_loss: 0.2076 - val_accuracy: 0.9305\n",
      "Epoch 13/30\n",
      "189/189 [==============================] - 392s 2s/step - loss: 0.2202 - accuracy: 0.9157 - val_loss: 0.4476 - val_accuracy: 0.8556\n",
      "Epoch 14/30\n",
      "189/189 [==============================] - 392s 2s/step - loss: 0.2007 - accuracy: 0.9215 - val_loss: 0.1773 - val_accuracy: 0.9572\n",
      "Epoch 15/30\n",
      "189/189 [==============================] - 392s 2s/step - loss: 0.2860 - accuracy: 0.9012 - val_loss: 0.2346 - val_accuracy: 0.9358\n",
      "Epoch 16/30\n",
      "189/189 [==============================] - 392s 2s/step - loss: 0.1620 - accuracy: 0.9360 - val_loss: 0.1843 - val_accuracy: 0.9572\n",
      "Epoch 17/30\n",
      "189/189 [==============================] - 393s 2s/step - loss: 0.1363 - accuracy: 0.9459 - val_loss: 0.2680 - val_accuracy: 0.9091\n",
      "Epoch 18/30\n",
      "189/189 [==============================] - 393s 2s/step - loss: 0.1443 - accuracy: 0.9435 - val_loss: 0.1923 - val_accuracy: 0.9358\n",
      "Epoch 19/30\n",
      "189/189 [==============================] - 391s 2s/step - loss: 0.1515 - accuracy: 0.9386 - val_loss: 0.1888 - val_accuracy: 0.9198\n",
      "Epoch 20/30\n",
      "189/189 [==============================] - 391s 2s/step - loss: 0.3181 - accuracy: 0.8967 - val_loss: 0.1590 - val_accuracy: 0.9519\n",
      "Epoch 21/30\n",
      "189/189 [==============================] - 391s 2s/step - loss: 0.2036 - accuracy: 0.9260 - val_loss: 0.2330 - val_accuracy: 0.9305\n",
      "Epoch 22/30\n",
      "189/189 [==============================] - 392s 2s/step - loss: 0.2019 - accuracy: 0.9279 - val_loss: 0.3378 - val_accuracy: 0.9037\n",
      "Epoch 23/30\n",
      "189/189 [==============================] - 392s 2s/step - loss: 0.1584 - accuracy: 0.9422 - val_loss: 0.1416 - val_accuracy: 0.9519\n",
      "Epoch 24/30\n",
      "189/189 [==============================] - 392s 2s/step - loss: 0.1437 - accuracy: 0.9505 - val_loss: 0.1484 - val_accuracy: 0.9572\n",
      "Epoch 25/30\n",
      "189/189 [==============================] - 391s 2s/step - loss: 0.1449 - accuracy: 0.9468 - val_loss: 0.1587 - val_accuracy: 0.9519\n",
      "Epoch 26/30\n",
      "189/189 [==============================] - 392s 2s/step - loss: 0.1529 - accuracy: 0.9471 - val_loss: 0.3795 - val_accuracy: 0.8984\n",
      "Epoch 27/30\n",
      "189/189 [==============================] - 392s 2s/step - loss: 0.2665 - accuracy: 0.9142 - val_loss: 0.1435 - val_accuracy: 0.9572\n",
      "Epoch 28/30\n",
      "189/189 [==============================] - 392s 2s/step - loss: 0.1480 - accuracy: 0.9469 - val_loss: 0.2276 - val_accuracy: 0.9465\n",
      "Epoch 29/30\n",
      "189/189 [==============================] - 391s 2s/step - loss: 0.1413 - accuracy: 0.9454 - val_loss: 0.1853 - val_accuracy: 0.9465\n",
      "Epoch 30/30\n",
      "189/189 [==============================] - 391s 2s/step - loss: 0.1712 - accuracy: 0.9386 - val_loss: 0.1616 - val_accuracy: 0.9572\n"
     ]
    }
   ],
   "source": [
    "r = model.fit(\n",
    "  training_set,\n",
    "  validation_data=test_set,\n",
    "  epochs=30,\n",
    "  steps_per_epoch=len(training_set),\n",
    "  validation_steps=len(test_set)\n",
    ")"
   ]
  },
  {
   "cell_type": "code",
   "execution_count": 14,
   "metadata": {
    "colab": {
     "base_uri": "https://localhost:8080/",
     "height": 530
    },
    "id": "HPZJj-S3HuqL",
    "outputId": "d3483176-d93b-43ce-8bf0-62dfb523866f"
   },
   "outputs": [
    {
     "data": {
      "image/png": "[encoded data removed]",
      "text/plain": [
       "<Figure size 432x288 with 1 Axes>"
      ]
     },
     "metadata": {
      "needs_background": "light"
     },
     "output_type": "display_data"
    },
    {
     "data": {
      "image/png": "[encoded data removed]",
      "text/plain": [
       "<Figure size 432x288 with 1 Axes>"
      ]
     },
     "metadata": {
      "needs_background": "light"
     },
     "output_type": "display_data"
    },
    {
     "data": {
      "text/plain": [
       "<Figure size 432x288 with 0 Axes>"
      ]
     },
     "metadata": {},
     "output_type": "display_data"
    }
   ],
   "source": [
    "# plot the loss\n",
    "plt.title(\"Resnet50\")\n",
    "plt.plot(r.history['loss'], label='train loss')\n",
    "plt.plot(r.history['val_loss'], label='val loss')\n",
    "plt.legend()\n",
    "plt.show()\n",
    "plt.savefig('LossVal_loss.png')\n",
    "\n",
    "# plot the accuracy\n",
    "plt.title(\"Resnet50\")\n",
    "plt.plot(r.history['accuracy'], label='train acc')\n",
    "plt.plot(r.history['val_accuracy'], label='val acc')\n",
    "plt.legend()\n",
    "plt.show()\n",
    "plt.savefig('AccVal_acc.png')"
   ]
  },
  {
   "cell_type": "code",
   "execution_count": null,
   "metadata": {
    "id": "FxHFNyNMH7lk"
   },
   "outputs": [],
   "source": [
    "from tensorflow.keras.models import load_model\n",
    "\n",
    "model.save('colormodel.h5')"
   ]
  },
  {
   "cell_type": "code",
   "execution_count": null,
   "metadata": {
    "id": "5e3gYgTiH_je"
   },
   "outputs": [],
   "source": [
    "y_pred = model.predict(test_set)"
   ]
  },
  {
   "cell_type": "code",
   "execution_count": null,
   "metadata": {
    "colab": {
     "base_uri": "https://localhost:8080/",
     "height": 1000
    },
    "id": "T8nDpMcCIEwW",
    "outputId": "dee55f9a-6efb-4c21-8c76-021292206f31"
   },
   "outputs": [],
   "source": [
    "y_pred"
   ]
  },
  {
   "cell_type": "code",
   "execution_count": null,
   "metadata": {
    "id": "oOawTAGYIKuL"
   },
   "outputs": [],
   "source": [
    "import numpy as np\n",
    "y_pred = np.argmax(y_pred, axis=1)"
   ]
  },
  {
   "cell_type": "code",
   "execution_count": null,
   "metadata": {
    "colab": {
     "base_uri": "https://localhost:8080/",
     "height": 101
    },
    "id": "kPn4LWZlIN6I",
    "outputId": "96c7bcc1-afa9-4450-c930-859ae15de464"
   },
   "outputs": [],
   "source": [
    "y_pred"
   ]
  },
  {
   "cell_type": "code",
   "execution_count": null,
   "metadata": {
    "id": "9lIsm4u_IRY-"
   },
   "outputs": [],
   "source": [
    "model=load_model('model_resnet50.h5')"
   ]
  },
  {
   "cell_type": "code",
   "execution_count": null,
   "metadata": {
    "id": "3rd7gTulJUZM"
   },
   "outputs": [],
   "source": [
    "import sys\n",
    "from PIL import Image\n",
    "sys.modules['Image'] = Image "
   ]
  },
  {
   "cell_type": "code",
   "execution_count": null,
   "metadata": {
    "id": "dqebwxVJIm8N"
   },
   "outputs": [],
   "source": [
    "img=image.load_img('/content/DS/dataset/valid/benign/$R00CNX3.exe.png',target_size=(224,224))"
   ]
  },
  {
   "cell_type": "code",
   "execution_count": null,
   "metadata": {
    "colab": {
     "base_uri": "https://localhost:8080/"
    },
    "id": "IfZOTtymJhvu",
    "outputId": "d7814ad4-a822-4c84-868e-afbaa4e879a1"
   },
   "outputs": [],
   "source": [
    "x=image.img_to_array(img)\n",
    "x"
   ]
  },
  {
   "cell_type": "code",
   "execution_count": null,
   "metadata": {
    "colab": {
     "base_uri": "https://localhost:8080/"
    },
    "id": "fjQs9NH_JllA",
    "outputId": "0d4ce897-0dba-4d9c-d349-b1cd0db47a00"
   },
   "outputs": [],
   "source": [
    "x.shape"
   ]
  },
  {
   "cell_type": "code",
   "execution_count": null,
   "metadata": {
    "id": "4z5OeGtuJm9P"
   },
   "outputs": [],
   "source": [
    "x=x/255"
   ]
  },
  {
   "cell_type": "code",
   "execution_count": null,
   "metadata": {
    "colab": {
     "base_uri": "https://localhost:8080/",
     "height": 286
    },
    "id": "aw-BW9VKt4Mj",
    "outputId": "d40b32dd-581c-40de-d547-13d76e7ef2ad"
   },
   "outputs": [],
   "source": [
    "import matplotlib.pyplot as plt\n",
    "plt.imshow(x.reshape((224,224,3)), cmap='Greys')"
   ]
  },
  {
   "cell_type": "code",
   "execution_count": null,
   "metadata": {
    "colab": {
     "base_uri": "https://localhost:8080/"
    },
    "id": "1gK3V7p8Jr70",
    "outputId": "3d75692d-9c99-4b61-d794-815ef26794f6"
   },
   "outputs": [],
   "source": [
    "x=np.expand_dims(x,axis=0)\n",
    "img_data=preprocess_input(x)\n",
    "img_data.shape"
   ]
  },
  {
   "cell_type": "code",
   "execution_count": null,
   "metadata": {
    "colab": {
     "base_uri": "https://localhost:8080/"
    },
    "id": "JaS9_glhJte1",
    "outputId": "8d8ab6e8-16b5-481d-c97a-f79ffa283fb8"
   },
   "outputs": [],
   "source": [
    "model.predict(img_data)"
   ]
  },
  {
   "cell_type": "code",
   "execution_count": null,
   "metadata": {
    "id": "0QsbXsJIJxgF"
   },
   "outputs": [],
   "source": [
    "a=np.argmax(model.predict(img_data), axis=1)"
   ]
  },
  {
   "cell_type": "code",
   "execution_count": null,
   "metadata": {
    "colab": {
     "base_uri": "https://localhost:8080/"
    },
    "id": "9E1ViWw4J2n1",
    "outputId": "17b74c97-291c-4a82-8993-bdde60338e58"
   },
   "outputs": [],
   "source": [
    "a==1"
   ]
  },
  {
   "cell_type": "code",
   "execution_count": null,
   "metadata": {
    "id": "da1bnsHLhMnT"
   },
   "outputs": [],
   "source": [
    "from contextlib import redirect_stdout\n",
    "\n",
    "with open('summary.txt', 'w') as f:\n",
    "    with redirect_stdout(f):\n",
    "        model.summary()"
   ]
  },
  {
   "cell_type": "code",
   "execution_count": null,
   "metadata": {
    "colab": {
     "base_uri": "https://localhost:8080/"
    },
    "id": "VU5iGHfmI-Uj",
    "outputId": "2cff8158-f737-46bd-ac4c-064b5801aaee"
   },
   "outputs": [],
   "source": [
    "pip install pillow"
   ]
  },
  {
   "cell_type": "code",
   "execution_count": null,
   "metadata": {
    "colab": {
     "base_uri": "https://localhost:8080/",
     "height": 162
    },
    "id": "MKaA5bt3fEzD",
    "outputId": "16fca0f9-5926-402b-ee1f-d638b0b01eab"
   },
   "outputs": [],
   "source": [
    "data.show_batch(rows=3, figsize=(7,6))"
   ]
  },
  {
   "cell_type": "code",
   "execution_count": null,
   "metadata": {
    "colab": {
     "base_uri": "https://localhost:8080/",
     "height": 50
    },
    "id": "CK6sBwLvqPpv",
    "outputId": "1922e165-9df8-4728-de05-42543fa48ece"
   },
   "outputs": [],
   "source": [
    "print(data.c)\n",
    "print(data.classes)"
   ]
  },
  {
   "cell_type": "code",
   "execution_count": null,
   "metadata": {
    "colab": {
     "base_uri": "https://localhost:8080/",
     "height": 82,
     "referenced_widgets": [
      "4249c5746d6c4eb89bf97ba760163bba",
      "581ac1b566a44d18a5a7c461838a7410",
      "3987daa7038543deaf41f4a4725b85f5",
      "b64412dd63b141b4b16810eead1967f8",
      "e40e5195a8054e969b4e7f5ec8e8ebfe",
      "d042c9e2c03747de84f82759f34ecd6d",
      "83b490deea464103b3fdd36650ef662e",
      "d47ca2f4977a4e728e7dc9ed7a63ee98"
     ]
    },
    "id": "4TkhQkx9qX60",
    "outputId": "d5e851cc-9cff-4907-c77d-ca1fb2c37d15"
   },
   "outputs": [],
   "source": [
    "learn = cnn_learner(data, models.resnet34, metrics = error_rate)"
   ]
  },
  {
   "cell_type": "code",
   "execution_count": null,
   "metadata": {
    "colab": {
     "base_uri": "https://localhost:8080/",
     "height": 1000
    },
    "id": "1LYWxLierx1s",
    "outputId": "cc511bc5-c184-464a-e7a5-4ee1c5070d0f"
   },
   "outputs": [],
   "source": [
    "learn.model"
   ]
  },
  {
   "cell_type": "code",
   "execution_count": null,
   "metadata": {
    "colab": {
     "base_uri": "https://localhost:8080/",
     "height": 166
    },
    "id": "I0tHDiq_r9YA",
    "outputId": "696187b8-1480-4cb6-8e33-7b95c32f9ebf"
   },
   "outputs": [],
   "source": [
    "learn.fit_one_cycle(4)"
   ]
  },
  {
   "cell_type": "code",
   "execution_count": null,
   "metadata": {
    "colab": {
     "base_uri": "https://localhost:8080/",
     "height": 343
    },
    "id": "lZPeTT4-sAeh",
    "outputId": "0b487ae9-d887-4859-9032-db47378d0dcf"
   },
   "outputs": [],
   "source": [
    "learn.fit_one_cycle(10)"
   ]
  },
  {
   "cell_type": "code",
   "execution_count": null,
   "metadata": {
    "colab": {
     "base_uri": "https://localhost:8080/",
     "height": 400
    },
    "id": "r2QZo0vwtCGq",
    "outputId": "137a0840-a507-49ad-de07-0414d74f5282"
   },
   "outputs": [],
   "source": [
    "interp = ClassificationInterpretation.from_learner(learn)\n",
    "losses,idxs =  interp.top_losses()\n",
    "interp.plot_top_losses(9,figsize=(9,6))"
   ]
  },
  {
   "cell_type": "code",
   "execution_count": null,
   "metadata": {
    "id": "TodOsLMFyDxt"
   },
   "outputs": [],
   "source": [
    "learn.unfreeze()"
   ]
  },
  {
   "cell_type": "code",
   "execution_count": null,
   "metadata": {
    "colab": {
     "base_uri": "https://localhost:8080/",
     "height": 343
    },
    "id": "LO1SDFd9ySvA",
    "outputId": "63b4e1e6-8668-4957-9d16-8af84acabb7d"
   },
   "outputs": [],
   "source": [
    "learn.fit_one_cycle(10)"
   ]
  },
  {
   "cell_type": "code",
   "execution_count": null,
   "metadata": {
    "id": "V1sRmmmCyWyq"
   },
   "outputs": [],
   "source": [
    "learn.save('stage-1-malware-detection.h5')"
   ]
  },
  {
   "cell_type": "code",
   "execution_count": null,
   "metadata": {
    "colab": {
     "base_uri": "https://localhost:8080/",
     "height": 110
    },
    "id": "6xHNa5zuAgy-",
    "outputId": "2a8e905d-cc1b-4fb9-fe18-0224905d008a"
   },
   "outputs": [],
   "source": [
    "learn.lr_find()"
   ]
  },
  {
   "cell_type": "code",
   "execution_count": null,
   "metadata": {
    "colab": {
     "base_uri": "https://localhost:8080/",
     "height": 279
    },
    "id": "zythPilfA063",
    "outputId": "69017baf-0458-4a3d-c4c9-c8d2dc22c462"
   },
   "outputs": [],
   "source": [
    "learn.recorder.plot()"
   ]
  },
  {
   "cell_type": "code",
   "execution_count": null,
   "metadata": {
    "colab": {
     "base_uri": "https://localhost:8080/",
     "height": 343
    },
    "id": "bOtld-dJEzEc",
    "outputId": "ecfca7cc-2a47-4df2-9875-9a27c73c188e"
   },
   "outputs": [],
   "source": [
    "learn.unfreeze()\n",
    "learn.fit_one_cycle(10, max_lr=slice(1e-6,1e-4))"
   ]
  },
  {
   "cell_type": "code",
   "execution_count": null,
   "metadata": {
    "colab": {
     "base_uri": "https://localhost:8080/",
     "height": 400
    },
    "id": "i_4azNSVE-MX",
    "outputId": "e7f4760e-61ad-4f8c-8da5-09c3699fe4b2"
   },
   "outputs": [],
   "source": [
    "interp = ClassificationInterpretation.from_learner(learn)\n",
    "losses,idxs =  interp.top_losses()\n",
    "interp.plot_top_losses(9,figsize=(9,6))"
   ]
  },
  {
   "cell_type": "code",
   "execution_count": null,
   "metadata": {
    "id": "e0kmnId9HRil"
   },
   "outputs": [],
   "source": [
    "learn.save('stage-2-malware-detection.h5')"
   ]
  },
  {
   "cell_type": "code",
   "execution_count": null,
   "metadata": {
    "colab": {
     "base_uri": "https://localhost:8080/",
     "height": 1000
    },
    "id": "nDsdG-0THrRG",
    "outputId": "52b30131-4a91-4efd-bb43-7abd6b922eb4"
   },
   "outputs": [],
   "source": [
    "learn.summary()"
   ]
  },
  {
   "cell_type": "code",
   "execution_count": 10,
   "metadata": {
    "id": "LnxV6ukdKSYa"
   },
   "outputs": [],
   "source": [
    "from keras.applications.vgg16 import VGG16\n",
    "vgg16=VGG16(input_shape=IMAGE_SIZE + [3], weights='imagenet', include_top=False)"
   ]
  },
  {
   "cell_type": "code",
   "execution_count": 11,
   "metadata": {},
   "outputs": [],
   "source": [
    "for layer in vgg16.layers:\n",
    "    layer.trainable = False"
   ]
  },
  {
   "cell_type": "code",
   "execution_count": 12,
   "metadata": {},
   "outputs": [],
   "source": [
    "x = Flatten()(vgg16.output)\n",
    "prediction = Dense(len(folders), activation='softmax')(x)\n",
    "\n",
    "# create a model object\n",
    "model = Model(inputs=vgg16.input, outputs=prediction)"
   ]
  },
  {
   "cell_type": "code",
   "execution_count": 13,
   "metadata": {},
   "outputs": [],
   "source": [
    "model.compile(\n",
    "  loss='categorical_crossentropy',\n",
    "  optimizer='adam',\n",
    "  metrics=['accuracy']\n",
    ")"
   ]
  },
  {
   "cell_type": "code",
   "execution_count": 14,
   "metadata": {},
   "outputs": [
    {
     "name": "stdout",
     "output_type": "stream",
     "text": [
      "Epoch 1/40\n",
      "189/189 [==============================] - 736s 4s/step - loss: 0.4258 - accuracy: 0.8123 - val_loss: 0.1499 - val_accuracy: 0.9412\n",
      "Epoch 2/40\n",
      "189/189 [==============================] - 739s 4s/step - loss: 0.1251 - accuracy: 0.9589 - val_loss: 0.0860 - val_accuracy: 0.9679\n",
      "Epoch 3/40\n",
      "189/189 [==============================] - 782s 4s/step - loss: 0.0873 - accuracy: 0.9721 - val_loss: 0.0684 - val_accuracy: 0.9786\n",
      "Epoch 4/40\n",
      "189/189 [==============================] - 794s 4s/step - loss: 0.0765 - accuracy: 0.9757 - val_loss: 0.0793 - val_accuracy: 0.9733\n",
      "Epoch 5/40\n",
      "189/189 [==============================] - 809s 4s/step - loss: 0.0618 - accuracy: 0.9806 - val_loss: 0.0568 - val_accuracy: 0.9947\n",
      "Epoch 6/40\n",
      "189/189 [==============================] - 812s 4s/step - loss: 0.0700 - accuracy: 0.9783 - val_loss: 0.0544 - val_accuracy: 0.9947\n",
      "Epoch 7/40\n",
      "189/189 [==============================] - 808s 4s/step - loss: 0.0520 - accuracy: 0.9834 - val_loss: 0.1925 - val_accuracy: 0.9358\n",
      "Epoch 8/40\n",
      "189/189 [==============================] - 810s 4s/step - loss: 0.0761 - accuracy: 0.9704 - val_loss: 0.0485 - val_accuracy: 0.9947\n",
      "Epoch 9/40\n",
      "189/189 [==============================] - 808s 4s/step - loss: 0.0528 - accuracy: 0.9840 - val_loss: 0.0444 - val_accuracy: 0.9947\n",
      "Epoch 10/40\n",
      "189/189 [==============================] - 810s 4s/step - loss: 0.0494 - accuracy: 0.9821 - val_loss: 0.0546 - val_accuracy: 0.9733\n",
      "Epoch 11/40\n",
      "189/189 [==============================] - 808s 4s/step - loss: 0.0513 - accuracy: 0.9842 - val_loss: 0.0922 - val_accuracy: 0.9679\n",
      "Epoch 12/40\n",
      "189/189 [==============================] - 811s 4s/step - loss: 0.0435 - accuracy: 0.9854 - val_loss: 0.0653 - val_accuracy: 0.9893\n",
      "Epoch 13/40\n",
      "189/189 [==============================] - 811s 4s/step - loss: 0.0366 - accuracy: 0.9888 - val_loss: 0.1119 - val_accuracy: 0.9465\n",
      "Epoch 14/40\n",
      "189/189 [==============================] - 812s 4s/step - loss: 0.0431 - accuracy: 0.9854 - val_loss: 0.0468 - val_accuracy: 0.9947\n",
      "Epoch 15/40\n",
      "189/189 [==============================] - 812s 4s/step - loss: 0.0444 - accuracy: 0.9871 - val_loss: 0.0551 - val_accuracy: 0.9947\n",
      "Epoch 16/40\n",
      "189/189 [==============================] - 810s 4s/step - loss: 0.0400 - accuracy: 0.9853 - val_loss: 0.0975 - val_accuracy: 0.9519\n",
      "Epoch 17/40\n",
      "189/189 [==============================] - 812s 4s/step - loss: 0.0339 - accuracy: 0.9886 - val_loss: 0.0525 - val_accuracy: 0.9947\n",
      "Epoch 18/40\n",
      "189/189 [==============================] - 748s 4s/step - loss: 0.0284 - accuracy: 0.9907 - val_loss: 0.0835 - val_accuracy: 0.9893\n",
      "Epoch 19/40\n",
      "189/189 [==============================] - 735s 4s/step - loss: 0.0306 - accuracy: 0.9887 - val_loss: 0.0915 - val_accuracy: 0.9626\n",
      "Epoch 20/40\n",
      "189/189 [==============================] - 734s 4s/step - loss: 0.0339 - accuracy: 0.9887 - val_loss: 0.0500 - val_accuracy: 0.9893\n",
      "Epoch 21/40\n",
      "189/189 [==============================] - 733s 4s/step - loss: 0.0292 - accuracy: 0.9899 - val_loss: 0.0530 - val_accuracy: 0.9947\n",
      "Epoch 22/40\n",
      "189/189 [==============================] - 732s 4s/step - loss: 0.0256 - accuracy: 0.9940 - val_loss: 0.0799 - val_accuracy: 0.9893\n",
      "Epoch 23/40\n",
      "189/189 [==============================] - 732s 4s/step - loss: 0.0264 - accuracy: 0.9909 - val_loss: 0.0508 - val_accuracy: 0.9947\n",
      "Epoch 24/40\n",
      "189/189 [==============================] - 734s 4s/step - loss: 0.0295 - accuracy: 0.9884 - val_loss: 0.0626 - val_accuracy: 0.9733\n",
      "Epoch 25/40\n",
      "189/189 [==============================] - 734s 4s/step - loss: 0.0196 - accuracy: 0.9946 - val_loss: 0.0554 - val_accuracy: 0.9893\n",
      "Epoch 26/40\n",
      "189/189 [==============================] - 736s 4s/step - loss: 0.0281 - accuracy: 0.9894 - val_loss: 0.0573 - val_accuracy: 0.9947\n",
      "Epoch 27/40\n",
      "189/189 [==============================] - 735s 4s/step - loss: 0.0179 - accuracy: 0.9952 - val_loss: 0.0768 - val_accuracy: 0.9786\n",
      "Epoch 28/40\n",
      "189/189 [==============================] - 735s 4s/step - loss: 0.0279 - accuracy: 0.9907 - val_loss: 0.0653 - val_accuracy: 0.9947\n",
      "Epoch 29/40\n",
      "189/189 [==============================] - 734s 4s/step - loss: 0.0260 - accuracy: 0.9900 - val_loss: 0.0587 - val_accuracy: 0.9893\n",
      "Epoch 30/40\n",
      "189/189 [==============================] - 734s 4s/step - loss: 0.0269 - accuracy: 0.9891 - val_loss: 0.1271 - val_accuracy: 0.9679\n",
      "Epoch 31/40\n",
      "189/189 [==============================] - 734s 4s/step - loss: 0.0394 - accuracy: 0.9863 - val_loss: 0.0574 - val_accuracy: 0.9893\n",
      "Epoch 32/40\n",
      "189/189 [==============================] - 735s 4s/step - loss: 0.0181 - accuracy: 0.9947 - val_loss: 0.0865 - val_accuracy: 0.9733\n",
      "Epoch 33/40\n",
      "189/189 [==============================] - 733s 4s/step - loss: 0.0215 - accuracy: 0.9911 - val_loss: 0.3420 - val_accuracy: 0.8824\n",
      "Epoch 34/40\n",
      "189/189 [==============================] - 733s 4s/step - loss: 0.0250 - accuracy: 0.9925 - val_loss: 0.0623 - val_accuracy: 0.9893\n",
      "Epoch 35/40\n",
      "189/189 [==============================] - 734s 4s/step - loss: 0.0189 - accuracy: 0.9933 - val_loss: 0.0697 - val_accuracy: 0.9947\n",
      "Epoch 36/40\n",
      "189/189 [==============================] - 734s 4s/step - loss: 0.0154 - accuracy: 0.9943 - val_loss: 0.0593 - val_accuracy: 0.9893\n",
      "Epoch 37/40\n",
      "189/189 [==============================] - 733s 4s/step - loss: 0.0132 - accuracy: 0.9949 - val_loss: 0.0594 - val_accuracy: 0.9893\n",
      "Epoch 38/40\n",
      "189/189 [==============================] - 735s 4s/step - loss: 0.0142 - accuracy: 0.9955 - val_loss: 0.0676 - val_accuracy: 0.9840\n",
      "Epoch 39/40\n",
      "189/189 [==============================] - 732s 4s/step - loss: 0.0101 - accuracy: 0.9974 - val_loss: 0.0663 - val_accuracy: 0.9947\n",
      "Epoch 40/40\n",
      "189/189 [==============================] - 731s 4s/step - loss: 0.0167 - accuracy: 0.9938 - val_loss: 0.0642 - val_accuracy: 0.9893\n"
     ]
    }
   ],
   "source": [
    "r = model.fit(\n",
    "  training_set,\n",
    "  validation_data=test_set,\n",
    "  epochs=40,\n",
    "  steps_per_epoch=len(training_set),\n",
    "  validation_steps=len(test_set)\n",
    ")"
   ]
  },
  {
   "cell_type": "code",
   "execution_count": 17,
   "metadata": {},
   "outputs": [
    {
     "data": {
      "image/png": "[encoded data removed]",
      "text/plain": [
       "<Figure size 432x288 with 1 Axes>"
      ]
     },
     "metadata": {
      "needs_background": "light"
     },
     "output_type": "display_data"
    },
    {
     "data": {
      "image/png": "[encoded data removed]",
      "text/plain": [
       "<Figure size 432x288 with 1 Axes>"
      ]
     },
     "metadata": {
      "needs_background": "light"
     },
     "output_type": "display_data"
    },
    {
     "data": {
      "text/plain": [
       "<Figure size 432x288 with 0 Axes>"
      ]
     },
     "metadata": {},
     "output_type": "display_data"
    }
   ],
   "source": [
    "# plot the loss\n",
    "plt.title(\"Vgg16\")\n",
    "plt.plot(r.history['loss'], label='train loss')\n",
    "plt.plot(r.history['val_loss'], label='val loss')\n",
    "plt.legend()\n",
    "plt.show()\n",
    "plt.savefig('LossVal_loss.png')\n",
    "\n",
    "plt.title(\"Vgg16\")\n",
    "# plot the accuracy\n",
    "plt.plot(r.history['accuracy'], label='train acc')\n",
    "plt.plot(r.history['val_accuracy'], label='val acc')\n",
    "plt.legend()\n",
    "plt.show()\n",
    "plt.savefig('AccVal_acc.png')"
   ]
  },
  {
   "cell_type": "code",
   "execution_count": 19,
   "metadata": {},
   "outputs": [],
   "source": [
    "from tensorflow.keras.models import load_model\n",
    "\n",
    "model1.save('alex.h5')"
   ]
  },
  {
   "cell_type": "code",
   "execution_count": 8,
   "metadata": {},
   "outputs": [],
   "source": [
    "from keras.applications import MobileNet\n",
    "alex=MobileNet(input_shape=IMAGE_SIZE + [3], weights='imagenet', include_top=False)"
   ]
  },
  {
   "cell_type": "code",
   "execution_count": 9,
   "metadata": {},
   "outputs": [],
   "source": [
    "for layer in alex.layers:\n",
    "    layer.trainable = False"
   ]
  },
  {
   "cell_type": "code",
   "execution_count": null,
   "metadata": {},
   "outputs": [],
   "source": []
  },
  {
   "cell_type": "code",
   "execution_count": 11,
   "metadata": {},
   "outputs": [],
   "source": [
    "x = Flatten()(alex.output)"
   ]
  },
  {
   "cell_type": "code",
   "execution_count": 13,
   "metadata": {},
   "outputs": [],
   "source": [
    "prediction = Dense(len(folders), activation='softmax')(x)\n",
    "\n",
    "# create a model object\n",
    "model = Model(inputs=alex.input, outputs=prediction)"
   ]
  },
  {
   "cell_type": "code",
   "execution_count": 14,
   "metadata": {},
   "outputs": [],
   "source": [
    "model.compile(\n",
    "  loss='categorical_crossentropy',\n",
    "  optimizer='adam',\n",
    "  metrics=['accuracy']\n",
    ")"
   ]
  },
  {
   "cell_type": "code",
   "execution_count": 15,
   "metadata": {},
   "outputs": [
    {
     "name": "stdout",
     "output_type": "stream",
     "text": [
      "Epoch 1/30\n",
      "189/189 [==============================] - 124s 646ms/step - loss: 0.6631 - accuracy: 0.8984 - val_loss: 0.0953 - val_accuracy: 0.9679\n",
      "Epoch 2/30\n",
      "189/189 [==============================] - 118s 625ms/step - loss: 0.1856 - accuracy: 0.9724 - val_loss: 0.1368 - val_accuracy: 0.9733\n",
      "Epoch 3/30\n",
      "189/189 [==============================] - 119s 627ms/step - loss: 0.1274 - accuracy: 0.9839 - val_loss: 0.4446 - val_accuracy: 0.9572\n",
      "Epoch 4/30\n",
      "189/189 [==============================] - 118s 625ms/step - loss: 0.1542 - accuracy: 0.9804 - val_loss: 0.8385 - val_accuracy: 0.9786\n",
      "Epoch 5/30\n",
      "189/189 [==============================] - 119s 627ms/step - loss: 0.1254 - accuracy: 0.9827 - val_loss: 0.6718 - val_accuracy: 0.9679\n",
      "Epoch 6/30\n",
      "189/189 [==============================] - 118s 627ms/step - loss: 0.0875 - accuracy: 0.9865 - val_loss: 1.0125 - val_accuracy: 0.9626\n",
      "Epoch 7/30\n",
      "189/189 [==============================] - 118s 627ms/step - loss: 0.0296 - accuracy: 0.9943 - val_loss: 0.6530 - val_accuracy: 0.9733\n",
      "Epoch 8/30\n",
      "189/189 [==============================] - 118s 626ms/step - loss: 0.0511 - accuracy: 0.9922 - val_loss: 0.7714 - val_accuracy: 0.9679\n",
      "Epoch 9/30\n",
      "189/189 [==============================] - 118s 626ms/step - loss: 0.0185 - accuracy: 0.9961 - val_loss: 0.9275 - val_accuracy: 0.9679\n",
      "Epoch 10/30\n",
      "189/189 [==============================] - 118s 626ms/step - loss: 0.0557 - accuracy: 0.9905 - val_loss: 0.9134 - val_accuracy: 0.9679\n",
      "Epoch 11/30\n",
      "189/189 [==============================] - 118s 625ms/step - loss: 0.0265 - accuracy: 0.9964 - val_loss: 0.6209 - val_accuracy: 0.9733\n",
      "Epoch 12/30\n",
      "189/189 [==============================] - 119s 628ms/step - loss: 0.0408 - accuracy: 0.9929 - val_loss: 1.3277 - val_accuracy: 0.9733\n",
      "Epoch 13/30\n",
      "189/189 [==============================] - 118s 626ms/step - loss: 0.0245 - accuracy: 0.9964 - val_loss: 1.0741 - val_accuracy: 0.9626\n",
      "Epoch 14/30\n",
      "189/189 [==============================] - 118s 626ms/step - loss: 0.0167 - accuracy: 0.9972 - val_loss: 1.0057 - val_accuracy: 0.9679\n",
      "Epoch 15/30\n",
      "189/189 [==============================] - 119s 627ms/step - loss: 0.0206 - accuracy: 0.9969 - val_loss: 0.8035 - val_accuracy: 0.9679\n",
      "Epoch 16/30\n",
      "189/189 [==============================] - 118s 624ms/step - loss: 0.0946 - accuracy: 0.9913 - val_loss: 0.8412 - val_accuracy: 0.9786\n",
      "Epoch 17/30\n",
      "189/189 [==============================] - 118s 627ms/step - loss: 0.0355 - accuracy: 0.9962 - val_loss: 0.8117 - val_accuracy: 0.9786\n",
      "Epoch 18/30\n",
      "189/189 [==============================] - 118s 625ms/step - loss: 0.0559 - accuracy: 0.9929 - val_loss: 0.7834 - val_accuracy: 0.9786\n",
      "Epoch 19/30\n",
      "189/189 [==============================] - 118s 626ms/step - loss: 0.0492 - accuracy: 0.9947 - val_loss: 0.9646 - val_accuracy: 0.9626\n",
      "Epoch 20/30\n",
      "189/189 [==============================] - 118s 625ms/step - loss: 0.0189 - accuracy: 0.9973 - val_loss: 1.4597 - val_accuracy: 0.9519\n",
      "Epoch 21/30\n",
      "189/189 [==============================] - 118s 625ms/step - loss: 0.0422 - accuracy: 0.9967 - val_loss: 1.2875 - val_accuracy: 0.9679\n",
      "Epoch 22/30\n",
      "189/189 [==============================] - 118s 626ms/step - loss: 0.0208 - accuracy: 0.9973 - val_loss: 1.2410 - val_accuracy: 0.9733\n",
      "Epoch 23/30\n",
      "189/189 [==============================] - 118s 626ms/step - loss: 0.0106 - accuracy: 0.9980 - val_loss: 1.7002 - val_accuracy: 0.9626\n",
      "Epoch 24/30\n",
      "189/189 [==============================] - 118s 624ms/step - loss: 0.0365 - accuracy: 0.9957 - val_loss: 1.2086 - val_accuracy: 0.9840\n",
      "Epoch 25/30\n",
      "189/189 [==============================] - 118s 625ms/step - loss: 0.0133 - accuracy: 0.9980 - val_loss: 1.4527 - val_accuracy: 0.9679\n",
      "Epoch 26/30\n",
      "189/189 [==============================] - 118s 625ms/step - loss: 0.0587 - accuracy: 0.9934 - val_loss: 1.8114 - val_accuracy: 0.9679\n",
      "Epoch 27/30\n",
      "189/189 [==============================] - 118s 625ms/step - loss: 0.0187 - accuracy: 0.9980 - val_loss: 1.3158 - val_accuracy: 0.9840\n",
      "Epoch 28/30\n",
      "189/189 [==============================] - 118s 625ms/step - loss: 0.0091 - accuracy: 0.9985 - val_loss: 1.8687 - val_accuracy: 0.9679\n",
      "Epoch 29/30\n",
      "189/189 [==============================] - 118s 625ms/step - loss: 0.0219 - accuracy: 0.9968 - val_loss: 2.0579 - val_accuracy: 0.9679\n",
      "Epoch 30/30\n",
      "189/189 [==============================] - 118s 625ms/step - loss: 0.0062 - accuracy: 0.9982 - val_loss: 2.1491 - val_accuracy: 0.9626\n"
     ]
    }
   ],
   "source": [
    "r = model.fit(\n",
    "  training_set,\n",
    "  validation_data=test_set,\n",
    "  epochs=30,\n",
    "  steps_per_epoch=len(training_set),\n",
    "  validation_steps=len(test_set)\n",
    ")"
   ]
  },
  {
   "cell_type": "code",
   "execution_count": null,
   "metadata": {},
   "outputs": [],
   "source": [
    "# plot the loss\n",
    "plt.title(\"MobileNet\")\n",
    "plt.plot(r.history['loss'], label='train loss')\n",
    "plt.plot(r.history['val_loss'], label='val loss')\n",
    "plt.legend()\n",
    "plt.show()\n",
    "plt.savefig('LossVal_loss.png')\n",
    "\n",
    "plt.title(\"MobileNet\")\n",
    "# plot the accuracy\n",
    "plt.plot(r.history['accuracy'], label='train acc')\n",
    "plt.plot(r.history['val_accuracy'], label='val acc')\n",
    "plt.legend()\n",
    "plt.show()\n",
    "plt.savefig('AccVal_acc.png')"
   ]
  },
  {
   "cell_type": "code",
   "execution_count": 18,
   "metadata": {},
   "outputs": [],
   "source": [
    "from tensorflow.keras.applications.inception_v3 import InceptionV3"
   ]
  },
  {
   "cell_type": "code",
   "execution_count": 19,
   "metadata": {},
   "outputs": [],
   "source": [
    "Inception= InceptionV3(input_shape=IMAGE_SIZE + [3], weights='imagenet', include_top=False)"
   ]
  },
  {
   "cell_type": "code",
   "execution_count": 20,
   "metadata": {},
   "outputs": [],
   "source": [
    "for layer in Inception.layers:\n",
    "    layer.trainable = False"
   ]
  },
  {
   "cell_type": "code",
   "execution_count": 21,
   "metadata": {},
   "outputs": [],
   "source": [
    "x = Flatten()(Inception.output)"
   ]
  },
  {
   "cell_type": "code",
   "execution_count": 22,
   "metadata": {},
   "outputs": [],
   "source": [
    "prediction = Dense(len(folders), activation='softmax')(x)\n",
    "\n",
    "# create a model object\n",
    "model = Model(inputs=Inception.input, outputs=prediction)"
   ]
  },
  {
   "cell_type": "code",
   "execution_count": 23,
   "metadata": {},
   "outputs": [],
   "source": [
    "model.compile(\n",
    "  loss='categorical_crossentropy',\n",
    "  optimizer='adam',\n",
    "  metrics=['accuracy']\n",
    ")"
   ]
  },
  {
   "cell_type": "code",
   "execution_count": 24,
   "metadata": {},
   "outputs": [
    {
     "name": "stdout",
     "output_type": "stream",
     "text": [
      "Epoch 1/30\n",
      "189/189 [==============================] - 201s 1s/step - loss: 1.8830 - accuracy: 0.7933 - val_loss: 0.2164 - val_accuracy: 0.9358\n",
      "Epoch 2/30\n",
      "189/189 [==============================] - 192s 1s/step - loss: 0.1457 - accuracy: 0.9565 - val_loss: 0.1111 - val_accuracy: 0.9572\n",
      "Epoch 3/30\n",
      "189/189 [==============================] - 191s 1s/step - loss: 0.1602 - accuracy: 0.9619 - val_loss: 0.2273 - val_accuracy: 0.9358\n",
      "Epoch 4/30\n",
      "189/189 [==============================] - 192s 1s/step - loss: 0.1210 - accuracy: 0.9727 - val_loss: 0.2027 - val_accuracy: 0.9572\n",
      "Epoch 5/30\n",
      "189/189 [==============================] - 192s 1s/step - loss: 0.1531 - accuracy: 0.9662 - val_loss: 0.2972 - val_accuracy: 0.9465\n",
      "Epoch 6/30\n",
      "189/189 [==============================] - 192s 1s/step - loss: 0.0999 - accuracy: 0.9748 - val_loss: 0.2767 - val_accuracy: 0.9519\n",
      "Epoch 7/30\n",
      "189/189 [==============================] - 192s 1s/step - loss: 0.0533 - accuracy: 0.9873 - val_loss: 0.1376 - val_accuracy: 0.9679\n",
      "Epoch 8/30\n",
      "189/189 [==============================] - 192s 1s/step - loss: 0.0805 - accuracy: 0.9827 - val_loss: 0.2201 - val_accuracy: 0.9626\n",
      "Epoch 9/30\n",
      "189/189 [==============================] - 191s 1s/step - loss: 0.0749 - accuracy: 0.9846 - val_loss: 0.2305 - val_accuracy: 0.9786\n",
      "Epoch 10/30\n",
      "189/189 [==============================] - 192s 1s/step - loss: 0.0369 - accuracy: 0.9917 - val_loss: 0.1998 - val_accuracy: 0.9679\n",
      "Epoch 11/30\n",
      "189/189 [==============================] - 192s 1s/step - loss: 0.0243 - accuracy: 0.9935 - val_loss: 0.1729 - val_accuracy: 0.9679\n",
      "Epoch 12/30\n",
      "189/189 [==============================] - 192s 1s/step - loss: 0.0306 - accuracy: 0.9922 - val_loss: 0.2439 - val_accuracy: 0.9733\n",
      "Epoch 13/30\n",
      "189/189 [==============================] - 192s 1s/step - loss: 0.0420 - accuracy: 0.9902 - val_loss: 0.6112 - val_accuracy: 0.9465\n",
      "Epoch 14/30\n",
      "189/189 [==============================] - 192s 1s/step - loss: 0.2710 - accuracy: 0.9657 - val_loss: 0.3319 - val_accuracy: 0.9465\n",
      "Epoch 15/30\n",
      "189/189 [==============================] - 191s 1s/step - loss: 0.0737 - accuracy: 0.9856 - val_loss: 0.3338 - val_accuracy: 0.9626\n",
      "Epoch 16/30\n",
      "189/189 [==============================] - 191s 1s/step - loss: 0.0246 - accuracy: 0.9945 - val_loss: 0.3471 - val_accuracy: 0.9733\n",
      "Epoch 17/30\n",
      "189/189 [==============================] - 191s 1s/step - loss: 0.0378 - accuracy: 0.9911 - val_loss: 0.8277 - val_accuracy: 0.9626\n",
      "Epoch 18/30\n",
      "189/189 [==============================] - 192s 1s/step - loss: 0.0604 - accuracy: 0.9887 - val_loss: 0.4834 - val_accuracy: 0.9733\n",
      "Epoch 19/30\n",
      "189/189 [==============================] - 191s 1s/step - loss: 0.0569 - accuracy: 0.9885 - val_loss: 0.6572 - val_accuracy: 0.9465\n",
      "Epoch 20/30\n",
      "189/189 [==============================] - 191s 1s/step - loss: 0.0229 - accuracy: 0.9961 - val_loss: 0.4908 - val_accuracy: 0.9786\n",
      "Epoch 21/30\n",
      "189/189 [==============================] - 191s 1s/step - loss: 0.0131 - accuracy: 0.9971 - val_loss: 0.4507 - val_accuracy: 0.9626\n",
      "Epoch 22/30\n",
      "189/189 [==============================] - 192s 1s/step - loss: 0.0066 - accuracy: 0.9978 - val_loss: 0.4002 - val_accuracy: 0.9733\n",
      "Epoch 23/30\n",
      "189/189 [==============================] - 192s 1s/step - loss: 9.7852e-05 - accuracy: 1.0000 - val_loss: 0.4099 - val_accuracy: 0.9733\n",
      "Epoch 24/30\n",
      "189/189 [==============================] - 192s 1s/step - loss: 1.2087e-05 - accuracy: 1.0000 - val_loss: 0.4071 - val_accuracy: 0.9733\n",
      "Epoch 25/30\n",
      "189/189 [==============================] - 192s 1s/step - loss: 1.8912e-05 - accuracy: 1.0000 - val_loss: 0.4074 - val_accuracy: 0.9733\n",
      "Epoch 26/30\n",
      "189/189 [==============================] - 196s 1s/step - loss: 1.1110e-05 - accuracy: 1.0000 - val_loss: 0.4073 - val_accuracy: 0.9733\n",
      "Epoch 27/30\n",
      "189/189 [==============================] - 202s 1s/step - loss: 1.5044e-05 - accuracy: 1.0000 - val_loss: 0.4093 - val_accuracy: 0.9733\n",
      "Epoch 28/30\n",
      "189/189 [==============================] - 204s 1s/step - loss: 1.5072e-05 - accuracy: 1.0000 - val_loss: 0.4105 - val_accuracy: 0.9733\n",
      "Epoch 29/30\n",
      "189/189 [==============================] - 204s 1s/step - loss: 1.2010e-05 - accuracy: 1.0000 - val_loss: 0.4111 - val_accuracy: 0.9733\n",
      "Epoch 30/30\n",
      "189/189 [==============================] - 203s 1s/step - loss: 1.7514e-05 - accuracy: 1.0000 - val_loss: 0.4112 - val_accuracy: 0.9733\n"
     ]
    }
   ],
   "source": [
    "r = model.fit(\n",
    "  training_set,\n",
    "  validation_data=test_set,\n",
    "  epochs=30,\n",
    "  steps_per_epoch=len(training_set),\n",
    "  validation_steps=len(test_set)\n",
    ")"
   ]
  },
  {
   "cell_type": "code",
   "execution_count": 25,
   "metadata": {},
   "outputs": [
    {
     "data": {
      "image/png": "[encoded data removed]",
      "text/plain": [
       "<Figure size 432x288 with 1 Axes>"
      ]
     },
     "metadata": {
      "needs_background": "light"
     },
     "output_type": "display_data"
    },
    {
     "data": {
      "image/png": "[encoded data removed]",
      "text/plain": [
       "<Figure size 432x288 with 1 Axes>"
      ]
     },
     "metadata": {
      "needs_background": "light"
     },
     "output_type": "display_data"
    },
    {
     "data": {
      "text/plain": [
       "<Figure size 432x288 with 0 Axes>"
      ]
     },
     "metadata": {},
     "output_type": "display_data"
    }
   ],
   "source": [
    "# plot the loss\n",
    "plt.title(\"Inception\")\n",
    "plt.plot(r.history['loss'], label='train loss')\n",
    "plt.plot(r.history['val_loss'], label='val loss')\n",
    "plt.legend()\n",
    "plt.show()\n",
    "plt.savefig('LossVal_loss.png')\n",
    "\n",
    "plt.title(\"Inception\")\n",
    "# plot the accuracy\n",
    "plt.plot(r.history['accuracy'], label='train acc')\n",
    "plt.plot(r.history['val_accuracy'], label='val acc')\n",
    "plt.legend()\n",
    "plt.show()\n",
    "plt.savefig('AccVal_acc.png')"
   ]
  },
  {
   "cell_type": "code",
   "execution_count": 21,
   "metadata": {},
   "outputs": [],
   "source": [
    "from tensorflow.keras.models import load_model\n",
    "\n",
    "model.save('incep.h5')"
   ]
  },
  {
   "cell_type": "code",
   "execution_count": 26,
   "metadata": {},
   "outputs": [],
   "source": [
    "from tensorflow.keras.applications.densenet import DenseNet121"
   ]
  },
  {
   "cell_type": "code",
   "execution_count": 27,
   "metadata": {},
   "outputs": [],
   "source": [
    "dnet= DenseNet121(input_shape=IMAGE_SIZE + [3], weights='imagenet', include_top=False)"
   ]
  },
  {
   "cell_type": "code",
   "execution_count": 28,
   "metadata": {},
   "outputs": [],
   "source": [
    "for layer in dnet.layers:\n",
    "    layer.trainable = False"
   ]
  },
  {
   "cell_type": "code",
   "execution_count": 29,
   "metadata": {},
   "outputs": [],
   "source": [
    "x = Flatten()(dnet.output)"
   ]
  },
  {
   "cell_type": "code",
   "execution_count": 30,
   "metadata": {},
   "outputs": [],
   "source": [
    "prediction = Dense(len(folders), activation='softmax')(x)\n",
    "\n",
    "# create a model object\n",
    "model = Model(inputs=dnet.input, outputs=prediction)"
   ]
  },
  {
   "cell_type": "code",
   "execution_count": 31,
   "metadata": {},
   "outputs": [],
   "source": [
    "model.compile(\n",
    "  loss='categorical_crossentropy',\n",
    "  optimizer='adam',\n",
    "  metrics=['accuracy']\n",
    ")"
   ]
  },
  {
   "cell_type": "code",
   "execution_count": 32,
   "metadata": {},
   "outputs": [
    {
     "name": "stdout",
     "output_type": "stream",
     "text": [
      "Epoch 1/30\n",
      "189/189 [==============================] - 467s 2s/step - loss: 0.3725 - accuracy: 0.8824 - val_loss: 0.2243 - val_accuracy: 0.9733\n",
      "Epoch 2/30\n",
      "189/189 [==============================] - 449s 2s/step - loss: 0.1273 - accuracy: 0.9612 - val_loss: 0.3575 - val_accuracy: 0.9519\n",
      "Epoch 3/30\n",
      "189/189 [==============================] - 459s 2s/step - loss: 0.0523 - accuracy: 0.9844 - val_loss: 0.2847 - val_accuracy: 0.9465\n",
      "Epoch 4/30\n",
      "189/189 [==============================] - 453s 2s/step - loss: 0.0934 - accuracy: 0.9727 - val_loss: 0.5770 - val_accuracy: 0.9572\n",
      "Epoch 5/30\n",
      "189/189 [==============================] - 461s 2s/step - loss: 0.0394 - accuracy: 0.9847 - val_loss: 0.5378 - val_accuracy: 0.9679\n",
      "Epoch 6/30\n",
      "189/189 [==============================] - 445s 2s/step - loss: 0.0344 - accuracy: 0.9877 - val_loss: 0.4392 - val_accuracy: 0.9679\n",
      "Epoch 7/30\n",
      "189/189 [==============================] - 445s 2s/step - loss: 0.0473 - accuracy: 0.9838 - val_loss: 0.5517 - val_accuracy: 0.9679\n",
      "Epoch 8/30\n",
      "189/189 [==============================] - 444s 2s/step - loss: 0.0140 - accuracy: 0.9951 - val_loss: 0.5884 - val_accuracy: 0.9679\n",
      "Epoch 9/30\n",
      "189/189 [==============================] - 444s 2s/step - loss: 0.0114 - accuracy: 0.9965 - val_loss: 0.7902 - val_accuracy: 0.9626\n",
      "Epoch 10/30\n",
      "189/189 [==============================] - 444s 2s/step - loss: 0.0280 - accuracy: 0.9895 - val_loss: 0.8031 - val_accuracy: 0.9679\n",
      "Epoch 11/30\n",
      "189/189 [==============================] - 443s 2s/step - loss: 0.0080 - accuracy: 0.9974 - val_loss: 0.8923 - val_accuracy: 0.9679\n",
      "Epoch 12/30\n",
      "189/189 [==============================] - 443s 2s/step - loss: 0.0767 - accuracy: 0.9822 - val_loss: 0.9710 - val_accuracy: 0.9679\n",
      "Epoch 13/30\n",
      "189/189 [==============================] - 444s 2s/step - loss: 0.0838 - accuracy: 0.9820 - val_loss: 0.7445 - val_accuracy: 0.9733\n",
      "Epoch 14/30\n",
      "189/189 [==============================] - 444s 2s/step - loss: 0.0111 - accuracy: 0.9961 - val_loss: 0.7962 - val_accuracy: 0.9733\n",
      "Epoch 15/30\n",
      "189/189 [==============================] - 443s 2s/step - loss: 0.0345 - accuracy: 0.9906 - val_loss: 0.7549 - val_accuracy: 0.9786\n",
      "Epoch 16/30\n",
      "189/189 [==============================] - 443s 2s/step - loss: 0.0200 - accuracy: 0.9961 - val_loss: 0.7249 - val_accuracy: 0.9733\n",
      "Epoch 17/30\n",
      "189/189 [==============================] - 443s 2s/step - loss: 0.0423 - accuracy: 0.9908 - val_loss: 0.6183 - val_accuracy: 0.9786\n",
      "Epoch 18/30\n",
      "189/189 [==============================] - 443s 2s/step - loss: 0.0090 - accuracy: 0.9963 - val_loss: 0.6004 - val_accuracy: 0.9840\n",
      "Epoch 19/30\n",
      "189/189 [==============================] - 443s 2s/step - loss: 0.0015 - accuracy: 0.9996 - val_loss: 0.5978 - val_accuracy: 0.9786\n",
      "Epoch 20/30\n",
      "189/189 [==============================] - 443s 2s/step - loss: 1.8359e-04 - accuracy: 1.0000 - val_loss: 0.5813 - val_accuracy: 0.9786\n",
      "Epoch 21/30\n",
      "189/189 [==============================] - 443s 2s/step - loss: 0.0011 - accuracy: 0.9995 - val_loss: 0.6022 - val_accuracy: 0.9786\n",
      "Epoch 22/30\n",
      "189/189 [==============================] - 443s 2s/step - loss: 3.8145e-05 - accuracy: 1.0000 - val_loss: 0.6014 - val_accuracy: 0.9840\n",
      "Epoch 23/30\n",
      "189/189 [==============================] - 443s 2s/step - loss: 2.8264e-05 - accuracy: 1.0000 - val_loss: 0.6066 - val_accuracy: 0.9786\n",
      "Epoch 24/30\n",
      "189/189 [==============================] - 445s 2s/step - loss: 4.3077e-05 - accuracy: 1.0000 - val_loss: 0.6071 - val_accuracy: 0.9786\n",
      "Epoch 25/30\n",
      "189/189 [==============================] - 444s 2s/step - loss: 2.7185e-05 - accuracy: 1.0000 - val_loss: 0.6132 - val_accuracy: 0.9786\n",
      "Epoch 26/30\n",
      "189/189 [==============================] - 444s 2s/step - loss: 2.8248e-05 - accuracy: 1.0000 - val_loss: 0.6142 - val_accuracy: 0.9786\n",
      "Epoch 27/30\n",
      "189/189 [==============================] - 444s 2s/step - loss: 2.7314e-05 - accuracy: 1.0000 - val_loss: 0.6164 - val_accuracy: 0.9786\n",
      "Epoch 28/30\n",
      "189/189 [==============================] - 444s 2s/step - loss: 2.6669e-05 - accuracy: 1.0000 - val_loss: 0.6121 - val_accuracy: 0.9786\n",
      "Epoch 29/30\n",
      "189/189 [==============================] - 444s 2s/step - loss: 2.6874e-05 - accuracy: 1.0000 - val_loss: 0.6163 - val_accuracy: 0.9786\n",
      "Epoch 30/30\n",
      "189/189 [==============================] - 443s 2s/step - loss: 2.2143e-05 - accuracy: 1.0000 - val_loss: 0.6175 - val_accuracy: 0.9786\n"
     ]
    }
   ],
   "source": [
    "r = model.fit(\n",
    "  training_set,\n",
    "  validation_data=test_set,\n",
    "  epochs=30,\n",
    "  steps_per_epoch=len(training_set),\n",
    "  validation_steps=len(test_set)\n",
    ")"
   ]
  },
  {
   "cell_type": "code",
   "execution_count": 33,
   "metadata": {},
   "outputs": [
    {
     "data": {
      "image/png": "[encoded data removed]",
      "text/plain": [
       "<Figure size 432x288 with 1 Axes>"
      ]
     },
     "metadata": {
      "needs_background": "light"
     },
     "output_type": "display_data"
    },
    {
     "data": {
      "image/png": "[encoded data removed]",
      "text/plain": [
       "<Figure size 432x288 with 1 Axes>"
      ]
     },
     "metadata": {
      "needs_background": "light"
     },
     "output_type": "display_data"
    },
    {
     "data": {
      "text/plain": [
       "<Figure size 432x288 with 0 Axes>"
      ]
     },
     "metadata": {},
     "output_type": "display_data"
    }
   ],
   "source": [
    "# plot the loss\n",
    "plt.title(\"Densenet\")\n",
    "plt.plot(r.history['loss'], label='train loss')\n",
    "plt.plot(r.history['val_loss'], label='val loss')\n",
    "plt.legend()\n",
    "plt.show()\n",
    "plt.savefig('LossVal_loss.png')\n",
    "\n",
    "plt.title(\"Densenet\")\n",
    "# plot the accuracy\n",
    "plt.plot(r.history['accuracy'], label='train acc')\n",
    "plt.plot(r.history['val_accuracy'], label='val acc')\n",
    "plt.legend()\n",
    "plt.show()\n",
    "plt.savefig('AccVal_acc.png')"
   ]
  },
  {
   "cell_type": "code",
   "execution_count": 17,
   "metadata": {},
   "outputs": [],
   "source": [
    "from tensorflow.keras.models import load_model\n",
    "\n",
    "model.save('dense3.h5')"
   ]
  },
  {
   "cell_type": "code",
   "execution_count": null,
   "metadata": {},
   "outputs": [],
   "source": []
  }
 ],
 "metadata": {
  "accelerator": "GPU",
  "colab": {
   "name": "Malware_Detection.ipynb",
   "provenance": []
  },
  "kernelspec": {
   "display_name": "Python 3",
   "language": "python",
   "name": "python3"
  },
  "language_info": {
   "codemirror_mode": {
    "name": "ipython",
    "version": 3
   },
   "file_extension": ".py",
   "mimetype": "text/x-python",
   "name": "python",
   "nbconvert_exporter": "python",
   "pygments_lexer": "ipython3",
   "version": "3.8.5"
  },
  "widgets": {
   "application/vnd.jupyter.widget-state+json": {
    "3987daa7038543deaf41f4a4725b85f5": {
     "model_module": "@jupyter-widgets/controls",
     "model_name": "HTMLModel",
     "state": {
      "_dom_classes": [],
      "_model_module": "@jupyter-widgets/controls",
      "_model_module_version": "1.5.0",
      "_model_name": "HTMLModel",
      "_view_count": null,
      "_view_module": "@jupyter-widgets/controls",
      "_view_module_version": "1.5.0",
      "_view_name": "HTMLView",
      "description": "",
      "description_tooltip": null,
      "layout": "IPY_MODEL_83b490deea464103b3fdd36650ef662e",
      "placeholder": "​",
      "style": "IPY_MODEL_d47ca2f4977a4e728e7dc9ed7a63ee98",
      "value": " 83.3M/83.3M [07:57&lt;00:00, 183kB/s]"
     }
    },
    "4249c5746d6c4eb89bf97ba760163bba": {
     "model_module": "@jupyter-widgets/controls",
     "model_name": "HBoxModel",
     "state": {
      "_dom_classes": [],
      "_model_module": "@jupyter-widgets/controls",
      "_model_module_version": "1.5.0",
      "_model_name": "HBoxModel",
      "_view_count": null,
      "_view_module": "@jupyter-widgets/controls",
      "_view_module_version": "1.5.0",
      "_view_name": "HBoxView",
      "box_style": "",
      "children": [
       "IPY_MODEL_581ac1b566a44d18a5a7c461838a7410",
       "IPY_MODEL_3987daa7038543deaf41f4a4725b85f5"
      ],
      "layout": "IPY_MODEL_b64412dd63b141b4b16810eead1967f8"
     }
    },
    "581ac1b566a44d18a5a7c461838a7410": {
     "model_module": "@jupyter-widgets/controls",
     "model_name": "FloatProgressModel",
     "state": {
      "_dom_classes": [],
      "_model_module": "@jupyter-widgets/controls",
      "_model_module_version": "1.5.0",
      "_model_name": "FloatProgressModel",
      "_view_count": null,
      "_view_module": "@jupyter-widgets/controls",
      "_view_module_version": "1.5.0",
      "_view_name": "ProgressView",
      "bar_style": "success",
      "description": "100%",
      "description_tooltip": null,
      "layout": "IPY_MODEL_e40e5195a8054e969b4e7f5ec8e8ebfe",
      "max": 87306240,
      "min": 0,
      "orientation": "horizontal",
      "style": "IPY_MODEL_d042c9e2c03747de84f82759f34ecd6d",
      "value": 87306240
     }
    },
    "83b490deea464103b3fdd36650ef662e": {
     "model_module": "@jupyter-widgets/base",
     "model_name": "LayoutModel",
     "state": {
      "_model_module": "@jupyter-widgets/base",
      "_model_module_version": "1.2.0",
      "_model_name": "LayoutModel",
      "_view_count": null,
      "_view_module": "@jupyter-widgets/base",
      "_view_module_version": "1.2.0",
      "_view_name": "LayoutView",
      "align_content": null,
      "align_items": null,
      "align_self": null,
      "border": null,
      "bottom": null,
      "display": null,
      "flex": null,
      "flex_flow": null,
      "grid_area": null,
      "grid_auto_columns": null,
      "grid_auto_flow": null,
      "grid_auto_rows": null,
      "grid_column": null,
      "grid_gap": null,
      "grid_row": null,
      "grid_template_areas": null,
      "grid_template_columns": null,
      "grid_template_rows": null,
      "height": null,
      "justify_content": null,
      "justify_items": null,
      "left": null,
      "margin": null,
      "max_height": null,
      "max_width": null,
      "min_height": null,
      "min_width": null,
      "object_fit": null,
      "object_position": null,
      "order": null,
      "overflow": null,
      "overflow_x": null,
      "overflow_y": null,
      "padding": null,
      "right": null,
      "top": null,
      "visibility": null,
      "width": null
     }
    },
    "b64412dd63b141b4b16810eead1967f8": {
     "model_module": "@jupyter-widgets/base",
     "model_name": "LayoutModel",
     "state": {
      "_model_module": "@jupyter-widgets/base",
      "_model_module_version": "1.2.0",
      "_model_name": "LayoutModel",
      "_view_count": null,
      "_view_module": "@jupyter-widgets/base",
      "_view_module_version": "1.2.0",
      "_view_name": "LayoutView",
      "align_content": null,
      "align_items": null,
      "align_self": null,
      "border": null,
      "bottom": null,
      "display": null,
      "flex": null,
      "flex_flow": null,
      "grid_area": null,
      "grid_auto_columns": null,
      "grid_auto_flow": null,
      "grid_auto_rows": null,
      "grid_column": null,
      "grid_gap": null,
      "grid_row": null,
      "grid_template_areas": null,
      "grid_template_columns": null,
      "grid_template_rows": null,
      "height": null,
      "justify_content": null,
      "justify_items": null,
      "left": null,
      "margin": null,
      "max_height": null,
      "max_width": null,
      "min_height": null,
      "min_width": null,
      "object_fit": null,
      "object_position": null,
      "order": null,
      "overflow": null,
      "overflow_x": null,
      "overflow_y": null,
      "padding": null,
      "right": null,
      "top": null,
      "visibility": null,
      "width": null
     }
    },
    "d042c9e2c03747de84f82759f34ecd6d": {
     "model_module": "@jupyter-widgets/controls",
     "model_name": "ProgressStyleModel",
     "state": {
      "_model_module": "@jupyter-widgets/controls",
      "_model_module_version": "1.5.0",
      "_model_name": "ProgressStyleModel",
      "_view_count": null,
      "_view_module": "@jupyter-widgets/base",
      "_view_module_version": "1.2.0",
      "_view_name": "StyleView",
      "bar_color": null,
      "description_width": "initial"
     }
    },
    "d47ca2f4977a4e728e7dc9ed7a63ee98": {
     "model_module": "@jupyter-widgets/controls",
     "model_name": "DescriptionStyleModel",
     "state": {
      "_model_module": "@jupyter-widgets/controls",
      "_model_module_version": "1.5.0",
      "_model_name": "DescriptionStyleModel",
      "_view_count": null,
      "_view_module": "@jupyter-widgets/base",
      "_view_module_version": "1.2.0",
      "_view_name": "StyleView",
      "description_width": ""
     }
    },
    "e40e5195a8054e969b4e7f5ec8e8ebfe": {
     "model_module": "@jupyter-widgets/base",
     "model_name": "LayoutModel",
     "state": {
      "_model_module": "@jupyter-widgets/base",
      "_model_module_version": "1.2.0",
      "_model_name": "LayoutModel",
      "_view_count": null,
      "_view_module": "@jupyter-widgets/base",
      "_view_module_version": "1.2.0",
      "_view_name": "LayoutView",
      "align_content": null,
      "align_items": null,
      "align_self": null,
      "border": null,
      "bottom": null,
      "display": null,
      "flex": null,
      "flex_flow": null,
      "grid_area": null,
      "grid_auto_columns": null,
      "grid_auto_flow": null,
      "grid_auto_rows": null,
      "grid_column": null,
      "grid_gap": null,
      "grid_row": null,
      "grid_template_areas": null,
      "grid_template_columns": null,
      "grid_template_rows": null,
      "height": null,
      "justify_content": null,
      "justify_items": null,
      "left": null,
      "margin": null,
      "max_height": null,
      "max_width": null,
      "min_height": null,
      "min_width": null,
      "object_fit": null,
      "object_position": null,
      "order": null,
      "overflow": null,
      "overflow_x": null,
      "overflow_y": null,
      "padding": null,
      "right": null,
      "top": null,
      "visibility": null,
      "width": null
     }
    }
   }
  }
 },
 "nbformat": 4,
 "nbformat_minor": 1
}
